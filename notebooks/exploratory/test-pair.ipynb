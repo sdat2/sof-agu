{
 "cells": [
  {
   "cell_type": "code",
   "execution_count": null,
   "id": "3ee78124",
   "metadata": {},
   "outputs": [],
   "source": []
  },
  {
   "cell_type": "markdown",
   "id": "6c3a29a4",
   "metadata": {},
   "source": [
    "## Test pair"
   ]
  },
  {
   "cell_type": "code",
   "execution_count": 1,
   "id": "e6502dd2",
   "metadata": {
    "ExecuteTime": {
     "end_time": "2021-04-29T10:06:19.178229Z",
     "start_time": "2021-04-29T10:06:17.948641Z"
    }
   },
   "outputs": [
    {
     "name": "stdout",
     "output_type": "stream",
     "text": [
      "platform linux\n"
     ]
    }
   ],
   "source": [
    "import src.data_loading.io_name_conventions as io"
   ]
  },
  {
   "cell_type": "code",
   "execution_count": 2,
   "id": "72e5d39a",
   "metadata": {
    "ExecuteTime": {
     "end_time": "2021-04-29T10:09:24.516237Z",
     "start_time": "2021-04-29T10:09:24.511723Z"
    }
   },
   "outputs": [],
   "source": [
    "import os\n",
    "import xarray as xr\n",
    "import src.constants as cst\n",
    "import src.time_wrapper as twr\n",
    "import src.models.make_pair_metric as tpi\n",
    "\n",
    "\n",
    "@twr.timeit\n",
    "def return_pair_i_metric(\n",
    "    k_clusters: int = cst.K_CLUSTERS,\n",
    "    pca: int = cst.D_PCS,\n",
    "    save_nc: bool = True,\n",
    "    t_index: int = cst.EXAMPLE_TIME_INDEX,\n",
    ") -> xr.DataArray:\n",
    "    \"\"\"Return pair i metric.\n",
    "\n",
    "    Args:\n",
    "        k_clusters (int, optional): Number of\n",
    "               clusters. Defaults to cst.K_CLUSTERS.\n",
    "        pca (int, optional): Number of principal components. Defaults to cst.D_PCS.\n",
    "        save_nc (bool, optional): Whether or not to save the resulting dataset.\n",
    "            Defaults to True.\n",
    "        t_index (int, optional): time index cst.EXAMPLE_TIME_INDEX.\n",
    "\n",
    "    Returns:\n",
    "        xr.DataArray: pair i metric.\n",
    "    \"\"\"\n",
    "    link_to_netcdf = io.return_name(k_clusters, pca) + \".nc\"\n",
    "    ds = xr.open_dataset(link_to_netcdf)\n",
    "    print(ds.__str__())\n",
    "    batch_size = 10\n",
    "    da = tpi.pair_i_metric(\n",
    "                ds.isel(time=slice(t_index, t_index + batch_size)), threshold=0.05\n",
    "            )\n",
    "    print(da)\n",
    "    return da"
   ]
  },
  {
   "cell_type": "code",
   "execution_count": null,
   "id": "b1323ca2",
   "metadata": {
    "ExecuteTime": {
     "start_time": "2021-04-29T10:09:38.330Z"
    }
   },
   "outputs": [
    {
     "name": "stdout",
     "output_type": "stream",
     "text": [
      "<xarray.Dataset>\n",
      "Dimensions:     (Imetric: 1, XC: 2160, YC: 588, Z: 52, pca: 3, rank: 2, time: 60)\n",
      "Coordinates:\n",
      "  * time        (time) datetime64[ns] 2008-01-31T10:24:00 ... 2012-12-31\n",
      "  * XC          (XC) float64 0.08333 0.25 0.4167 0.5833 ... 359.6 359.8 359.9\n",
      "  * YC          (YC) float64 -77.98 -77.95 -77.91 ... -30.02 -29.87 -29.72\n",
      "  * Z           (Z) float32 -2.1 -6.7 -12.15 -18.55 ... -5000.0 -5400.0 -5800.0\n",
      "Dimensions without coordinates: Imetric, pca, rank\n",
      "Data variables:\n",
      "    IMETRIC     (time, Imetric, YC, XC) float64 ...\n",
      "    A_B         (time, rank, YC, XC) float64 ...\n",
      "    PCA_VALUES  (time, pca, YC, XC) float64 ...\n",
      "index_list ['time', 'rank', 'YC', 'XC']\n",
      "list(dataaray.dims) ['time', 'rank', 'YC', 'XC']\n",
      "init_list [0, 1, 2, 3]\n",
      "index_list ['time', 'YC', 'XC']\n",
      "list(dataaray.dims) ['time', 'YC', 'XC']\n",
      "init_list [0, 1, 2]\n",
      "i_metric (10, 588, 2160)\n",
      "list_no [0, 1, 2, 3, 4]\n",
      "cart_prod [array([0, 1]), array([0, 2]), array([0, 3]), array([0, 4]), array([1, 2]), array([1, 3]), array([1, 4]), array([2, 3]), array([2, 4]), array([3, 4])]\n",
      "pair [0 1]\n",
      "shape (10, 2, 588, 2160)\n",
      "pair [0 2]\n",
      "shape (10, 2, 588, 2160)\n",
      "pair [0 3]\n",
      "shape (10, 2, 588, 2160)\n",
      "pair [0 4]\n",
      "shape (10, 2, 588, 2160)\n",
      "pair [1 2]\n",
      "shape (10, 2, 588, 2160)\n"
     ]
    }
   ],
   "source": [
    "return_pair_i_metric()"
   ]
  },
  {
   "cell_type": "code",
   "execution_count": null,
   "id": "99899a2f",
   "metadata": {},
   "outputs": [],
   "source": []
  }
 ],
 "metadata": {
  "hide_input": false,
  "kernelspec": {
   "display_name": "Python 3",
   "language": "python",
   "name": "python3"
  },
  "language_info": {
   "codemirror_mode": {
    "name": "ipython",
    "version": 3
   },
   "file_extension": ".py",
   "mimetype": "text/x-python",
   "name": "python",
   "nbconvert_exporter": "python",
   "pygments_lexer": "ipython3",
   "version": "3.8.8"
  },
  "varInspector": {
   "cols": {
    "lenName": 16,
    "lenType": 16,
    "lenVar": 40
   },
   "kernels_config": {
    "python": {
     "delete_cmd_postfix": "",
     "delete_cmd_prefix": "del ",
     "library": "var_list.py",
     "varRefreshCmd": "print(var_dic_list())"
    },
    "r": {
     "delete_cmd_postfix": ") ",
     "delete_cmd_prefix": "rm(",
     "library": "var_list.r",
     "varRefreshCmd": "cat(var_dic_list()) "
    }
   },
   "types_to_exclude": [
    "module",
    "function",
    "builtin_function_or_method",
    "instance",
    "_Feature"
   ],
   "window_display": false
  }
 },
 "nbformat": 4,
 "nbformat_minor": 5
}
